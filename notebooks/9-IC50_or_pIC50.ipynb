{
 "cells": [
  {
   "cell_type": "markdown",
   "source": [
    "# Examples for IC50 or pIC50"
   ],
   "metadata": {
    "collapsed": false
   },
   "id": "156db0c8e7af61ef"
  },
  {
   "cell_type": "code",
   "execution_count": 1,
   "id": "initial_id",
   "metadata": {
    "collapsed": true,
    "ExecuteTime": {
     "end_time": "2024-01-15T08:51:45.769001Z",
     "start_time": "2024-01-15T08:51:45.765848Z"
    }
   },
   "outputs": [],
   "source": [
    "# Import packages\n",
    "import pandas as pd\n",
    "import numpy as np\n",
    "from py50.calculator import Calculator"
   ]
  },
  {
   "cell_type": "code",
   "outputs": [
    {
     "data": {
      "text/plain": "     Drug  IC50 (µM)\n0  Drug 1  30.000000\n1  Drug 2  60.000000\n2  Drug 3   0.000345\n3  Drug 4   0.099000\n4  Drug 5   0.800000\n5  Drug 6   0.940000",
      "text/html": "<div>\n<style scoped>\n    .dataframe tbody tr th:only-of-type {\n        vertical-align: middle;\n    }\n\n    .dataframe tbody tr th {\n        vertical-align: top;\n    }\n\n    .dataframe thead th {\n        text-align: right;\n    }\n</style>\n<table border=\"1\" class=\"dataframe\">\n  <thead>\n    <tr style=\"text-align: right;\">\n      <th></th>\n      <th>Drug</th>\n      <th>IC50 (µM)</th>\n    </tr>\n  </thead>\n  <tbody>\n    <tr>\n      <th>0</th>\n      <td>Drug 1</td>\n      <td>30.000000</td>\n    </tr>\n    <tr>\n      <th>1</th>\n      <td>Drug 2</td>\n      <td>60.000000</td>\n    </tr>\n    <tr>\n      <th>2</th>\n      <td>Drug 3</td>\n      <td>0.000345</td>\n    </tr>\n    <tr>\n      <th>3</th>\n      <td>Drug 4</td>\n      <td>0.099000</td>\n    </tr>\n    <tr>\n      <th>4</th>\n      <td>Drug 5</td>\n      <td>0.800000</td>\n    </tr>\n    <tr>\n      <th>5</th>\n      <td>Drug 6</td>\n      <td>0.940000</td>\n    </tr>\n  </tbody>\n</table>\n</div>"
     },
     "execution_count": 2,
     "metadata": {},
     "output_type": "execute_result"
    }
   ],
   "source": [
    "df = pd.read_csv('datasets/pic50/pic50_example.csv')\n",
    "df"
   ],
   "metadata": {
    "collapsed": false,
    "ExecuteTime": {
     "end_time": "2024-01-15T08:51:45.777974Z",
     "start_time": "2024-01-15T08:51:45.769647Z"
    }
   },
   "id": "bd2c9cb7509427c0",
   "execution_count": 2
  },
  {
   "cell_type": "markdown",
   "source": [
    "Convert IC50 column to pIC50"
   ],
   "metadata": {
    "collapsed": false
   },
   "id": "105a8bebffc66ea8"
  },
  {
   "cell_type": "code",
   "outputs": [
    {
     "data": {
      "text/plain": "     Drug  IC50 (µM)  pIC50\n0  Drug 1  30.000000   4.52\n1  Drug 2  60.000000   4.22\n2  Drug 3   0.000345   9.46\n3  Drug 4   0.099000   7.00\n4  Drug 5   0.800000   6.10\n5  Drug 6   0.940000   6.03",
      "text/html": "<div>\n<style scoped>\n    .dataframe tbody tr th:only-of-type {\n        vertical-align: middle;\n    }\n\n    .dataframe tbody tr th {\n        vertical-align: top;\n    }\n\n    .dataframe thead th {\n        text-align: right;\n    }\n</style>\n<table border=\"1\" class=\"dataframe\">\n  <thead>\n    <tr style=\"text-align: right;\">\n      <th></th>\n      <th>Drug</th>\n      <th>IC50 (µM)</th>\n      <th>pIC50</th>\n    </tr>\n  </thead>\n  <tbody>\n    <tr>\n      <th>0</th>\n      <td>Drug 1</td>\n      <td>30.000000</td>\n      <td>4.52</td>\n    </tr>\n    <tr>\n      <th>1</th>\n      <td>Drug 2</td>\n      <td>60.000000</td>\n      <td>4.22</td>\n    </tr>\n    <tr>\n      <th>2</th>\n      <td>Drug 3</td>\n      <td>0.000345</td>\n      <td>9.46</td>\n    </tr>\n    <tr>\n      <th>3</th>\n      <td>Drug 4</td>\n      <td>0.099000</td>\n      <td>7.00</td>\n    </tr>\n    <tr>\n      <th>4</th>\n      <td>Drug 5</td>\n      <td>0.800000</td>\n      <td>6.10</td>\n    </tr>\n    <tr>\n      <th>5</th>\n      <td>Drug 6</td>\n      <td>0.940000</td>\n      <td>6.03</td>\n    </tr>\n  </tbody>\n</table>\n</div>"
     },
     "execution_count": 3,
     "metadata": {},
     "output_type": "execute_result"
    }
   ],
   "source": [
    "# Because units are already in µM, must convert log accordingly\n",
    "df['pIC50'] = -np.log10(df['IC50 (µM)']* 1e-6).round(2)\n",
    "df"
   ],
   "metadata": {
    "collapsed": false,
    "ExecuteTime": {
     "end_time": "2024-01-15T08:51:45.782843Z",
     "start_time": "2024-01-15T08:51:45.780836Z"
    }
   },
   "id": "16a0df287d3e1ff",
   "execution_count": 3
  },
  {
   "cell_type": "markdown",
   "source": [
    "# A Real-World Example\n",
    "\n",
    "A recent example how using pIC50 can be demoed with the development of Capivasertib (AZD5363) is a AKT kinase inhibitor recently approved in 2023. It is the 7th approved [fragment-derived drug](http://practicalfragments.blogspot.com/2023/11/capivasertib-seventh-approved-fragment.html). It was built around a 7-azaindole core, which showed an IC50 > 100 µM for AKT. Looking at the first report of Capivasertib, [published in 2013](https://pubs.acs.org/doi/full/10.1021/jm301762v), we can list the intermediate compounds and their reported IC50. From there we can scale the results ot IC50 and get a better idea of the compounds potency as it moved through the drug optimization stages.  "
   ],
   "metadata": {
    "collapsed": false
   },
   "id": "dc718d21729299de"
  },
  {
   "cell_type": "code",
   "outputs": [
    {
     "data": {
      "text/plain": "       Compound  IC50 (µM)  pIC50\n0   7-azaindole    100.000   4.00\n1   Compound 33      0.276   6.56\n2   Compound 41      1.313   5.88\n3   Compound 53      0.030   7.52\n4  Capivasertib      0.003   8.52",
      "text/html": "<div>\n<style scoped>\n    .dataframe tbody tr th:only-of-type {\n        vertical-align: middle;\n    }\n\n    .dataframe tbody tr th {\n        vertical-align: top;\n    }\n\n    .dataframe thead th {\n        text-align: right;\n    }\n</style>\n<table border=\"1\" class=\"dataframe\">\n  <thead>\n    <tr style=\"text-align: right;\">\n      <th></th>\n      <th>Compound</th>\n      <th>IC50 (µM)</th>\n      <th>pIC50</th>\n    </tr>\n  </thead>\n  <tbody>\n    <tr>\n      <th>0</th>\n      <td>7-azaindole</td>\n      <td>100.000</td>\n      <td>4.00</td>\n    </tr>\n    <tr>\n      <th>1</th>\n      <td>Compound 33</td>\n      <td>0.276</td>\n      <td>6.56</td>\n    </tr>\n    <tr>\n      <th>2</th>\n      <td>Compound 41</td>\n      <td>1.313</td>\n      <td>5.88</td>\n    </tr>\n    <tr>\n      <th>3</th>\n      <td>Compound 53</td>\n      <td>0.030</td>\n      <td>7.52</td>\n    </tr>\n    <tr>\n      <th>4</th>\n      <td>Capivasertib</td>\n      <td>0.003</td>\n      <td>8.52</td>\n    </tr>\n  </tbody>\n</table>\n</div>"
     },
     "execution_count": 4,
     "metadata": {},
     "output_type": "execute_result"
    }
   ],
   "source": [
    "data = {'Compound': ['7-azaindole', 'Compound 33', 'Compound 41', 'Compound 53', 'Capivasertib'],\n",
    "        'IC50 (µM)': [100, 0.276, 1.313, 0.030, 0.003]}\n",
    "demo_df = pd.DataFrame(data)\n",
    "# Scale IC50 column to pIC50\n",
    "demo_df['pIC50'] = -np.log10(demo_df['IC50 (µM)']* 1e-6).round(2)\n",
    "demo_df"
   ],
   "metadata": {
    "collapsed": false,
    "ExecuteTime": {
     "end_time": "2024-01-15T08:51:45.791274Z",
     "start_time": "2024-01-15T08:51:45.785844Z"
    }
   },
   "id": "7616fabea8ec2681",
   "execution_count": 4
  },
  {
   "cell_type": "markdown",
   "source": [
    "**NOTE** I did not follow the optimization linearly - the IC50 varied between compounds, some more potent and some less potent depending on the moiety substituted. From the paper, we see that the chemists were able to generate many molecules with very high potency, however issues of selectivity were of great concern, leading to a lot of tweaking done by the chemists. A lot of work was put into the development of Capivasertib.\n",
    "\n",
    "Nevertheless, the IC50 of the reported intermediates in the published article are, objectively, not good to look at. Especially in Table 3 as the IC50 jumped from 9 nM to almost 2,800 nM depending on the substituent. The above table shows how scaling the IC50 to the pIC50 scale can make the information more intuitive. As the molecule becomes more potent, it will have a higher pIC50 number. Thus, there is a need to forever improve the compound to \"achieve\" a higher ranking on the pIC50 scale. For Capivarsertib's case, it has a pIC50 of 8.52. "
   ],
   "metadata": {
    "collapsed": false
   },
   "id": "83f9d98490a1c036"
  },
  {
   "cell_type": "markdown",
   "source": [
    "## PLUGS: py50 Can Scale IC50 to pIC50!\n",
    "\n",
    "To aid in data representation, py50 comes equipped with a function to scale the IC50 into pIC50. This is performed using the calculate_pic50() function. It is built on top of the calculate_absolute_ic50() function. Thus both the relative and absolute pIC50 will be reported. Again, what you report depends on your dataset. **Use your best judgement!**\n",
    "\n",
    "An example of how this works can be seen below:"
   ],
   "metadata": {
    "collapsed": false
   },
   "id": "ad55d1eacea77354"
  },
  {
   "cell_type": "code",
   "outputs": [
    {
     "data": {
      "text/plain": "  compound_name  relative ic50 (nM)  absolute ic50 (nM)  relative pIC50  \\\n0        Drug 1          429.962230          579.616414        6.366570   \n1        Drug 2          423.053668          660.688864        6.373605   \n2        Drug 3          644.381783          921.710894        6.190857   \n3        Drug 4          398.600790          422.448576        6.399462   \n\n   absolute pIC50  \n0        6.236859  \n1        6.180003  \n2        6.035405  \n3        6.374226  ",
      "text/html": "<div>\n<style scoped>\n    .dataframe tbody tr th:only-of-type {\n        vertical-align: middle;\n    }\n\n    .dataframe tbody tr th {\n        vertical-align: top;\n    }\n\n    .dataframe thead th {\n        text-align: right;\n    }\n</style>\n<table border=\"1\" class=\"dataframe\">\n  <thead>\n    <tr style=\"text-align: right;\">\n      <th></th>\n      <th>compound_name</th>\n      <th>relative ic50 (nM)</th>\n      <th>absolute ic50 (nM)</th>\n      <th>relative pIC50</th>\n      <th>absolute pIC50</th>\n    </tr>\n  </thead>\n  <tbody>\n    <tr>\n      <th>0</th>\n      <td>Drug 1</td>\n      <td>429.962230</td>\n      <td>579.616414</td>\n      <td>6.366570</td>\n      <td>6.236859</td>\n    </tr>\n    <tr>\n      <th>1</th>\n      <td>Drug 2</td>\n      <td>423.053668</td>\n      <td>660.688864</td>\n      <td>6.373605</td>\n      <td>6.180003</td>\n    </tr>\n    <tr>\n      <th>2</th>\n      <td>Drug 3</td>\n      <td>644.381783</td>\n      <td>921.710894</td>\n      <td>6.190857</td>\n      <td>6.035405</td>\n    </tr>\n    <tr>\n      <th>3</th>\n      <td>Drug 4</td>\n      <td>398.600790</td>\n      <td>422.448576</td>\n      <td>6.399462</td>\n      <td>6.374226</td>\n    </tr>\n  </tbody>\n</table>\n</div>"
     },
     "execution_count": 5,
     "metadata": {},
     "output_type": "execute_result"
    }
   ],
   "source": [
    "# Input Data for calculation\n",
    "df = pd.read_csv('datasets/py50/multiple_example.csv')\n",
    "calc_data = Calculator(df)\n",
    "calculation = calc_data.calculate_pic50(name_col='Compound Name', concentration_col='Compound Conc', response_col='% Inhibition Avg')\n",
    "\n",
    "# To keep IC50 columns\n",
    "calculation = calculation[['compound_name', 'relative ic50 (nM)', 'absolute ic50 (nM)', 'relative pIC50', 'absolute pIC50']]\n",
    "calculation"
   ],
   "metadata": {
    "collapsed": false,
    "ExecuteTime": {
     "end_time": "2024-01-15T08:51:45.867909Z",
     "start_time": "2024-01-15T08:51:45.789163Z"
    }
   },
   "id": "518a1768455b5777",
   "execution_count": 5
  }
 ],
 "metadata": {
  "kernelspec": {
   "display_name": "Python 3",
   "language": "python",
   "name": "python3"
  },
  "language_info": {
   "codemirror_mode": {
    "name": "ipython",
    "version": 2
   },
   "file_extension": ".py",
   "mimetype": "text/x-python",
   "name": "python",
   "nbconvert_exporter": "python",
   "pygments_lexer": "ipython2",
   "version": "2.7.6"
  }
 },
 "nbformat": 4,
 "nbformat_minor": 5
}
