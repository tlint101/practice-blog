{
 "cells": [
  {
   "cell_type": "markdown",
   "source": [
    "---\n",
    "title: 'Drawing Molecules'\n",
    "subtitle: 'Where we talk basics'\n",
    "author: 'Tony E. Lin'\n",
    "date: '2024-01-18'\n",
    "categories: [RDKit, Drawing]\n",
    "---"
   ],
   "metadata": {
    "collapsed": false
   },
   "id": "fcccb90dfb68bdc3"
  },
  {
   "cell_type": "markdown",
   "source": [
    "## Starting Small\n",
    "\n",
    "When I was starting out, I found it frustrating learning how to code. It was easy to follow tutorials, but when I tried my own things nothing ever worked. I realized what the problem was - I needed to find my own project. As a student in cheminformatics, I was lucky that I have plenty of topics to choose from, but they all use similar toolsets. \n",
    "\n",
    "But what to choose? Nothing complicated for sure. I needed to start small and add complexity. \n",
    "\n",
    "What better way to start than by learning how to draw molecules? It may sound dumb, but this is one of the most important things you can learn. Drawing one molecule in a program is easy. Drawing 10? 30? 50? Now that is just torture. Don't do that to yourself! \n",
    "\n",
    "Today we will go over how to draw molecules using RDKit. "
   ],
   "metadata": {
    "collapsed": false
   },
   "id": "32e18989efb89373"
  },
  {
   "cell_type": "code",
   "execution_count": null,
   "id": "initial_id",
   "metadata": {
    "collapsed": true
   },
   "outputs": [],
   "source": [
    "import rdkit\n",
    "from rdkit import Chem"
   ]
  },
  {
   "cell_type": "code",
   "outputs": [],
   "source": [],
   "metadata": {
    "collapsed": false
   },
   "id": "ff6eed68a1c553de"
  },
  {
   "cell_type": "markdown",
   "source": [
    "That is a lot for today. Just know that there are a lot of additional drawing options. I will most likely write about those in the future. In the meantime, it is good to practice these and thinking about how to add more functionality to it.\n",
    "\n",
    "I guess I have always been interested in graphs and images. With RDKit, there are some easy to use tools baked in. Hopefully these can help others along the way. "
   ],
   "metadata": {
    "collapsed": false
   },
   "id": "6f149b64a7d9a4ae"
  }
 ],
 "metadata": {
  "kernelspec": {
   "display_name": "Python 3",
   "language": "python",
   "name": "python3"
  },
  "language_info": {
   "codemirror_mode": {
    "name": "ipython",
    "version": 2
   },
   "file_extension": ".py",
   "mimetype": "text/x-python",
   "name": "python",
   "nbconvert_exporter": "python",
   "pygments_lexer": "ipython2",
   "version": "2.7.6"
  }
 },
 "nbformat": 4,
 "nbformat_minor": 5
}
