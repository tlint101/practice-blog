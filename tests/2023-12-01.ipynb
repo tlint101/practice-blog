{
 "cells": [
  {
   "cell_type": "markdown",
   "source": [
    "---\n",
    "title: 'Testing'\n",
    "author: 'Tony E. Lin'\n",
    "date: '2023-12-01'\n",
    "categories: [Testing]\n",
    "draft: true\n",
    "---\n"
   ],
   "metadata": {
    "collapsed": false
   },
   "id": "2a0f64453b7f26ed"
  },
  {
   "cell_type": "markdown",
   "source": [
    "# Hello\n",
    "\n",
    "Trying things out and seeing how they work if I used a Jupyter Notebook. "
   ],
   "metadata": {
    "collapsed": false
   },
   "id": "b1199a397b1287a6"
  },
  {
   "cell_type": "code",
   "execution_count": 3,
   "id": "initial_id",
   "metadata": {
    "collapsed": true,
    "ExecuteTime": {
     "end_time": "2023-12-03T01:08:37.280284Z",
     "start_time": "2023-12-03T01:08:37.278014Z"
    }
   },
   "outputs": [
    {
     "name": "stdout",
     "output_type": "stream",
     "text": [
      "2023.09.2\n"
     ]
    }
   ],
   "source": [
    "import rdkit\n",
    "print(rdkit.__version__)"
   ]
  }
 ],
 "metadata": {
  "kernelspec": {
   "display_name": "Python 3",
   "language": "python",
   "name": "python3"
  },
  "language_info": {
   "codemirror_mode": {
    "name": "ipython",
    "version": 2
   },
   "file_extension": ".py",
   "mimetype": "text/x-python",
   "name": "python",
   "nbconvert_exporter": "python",
   "pygments_lexer": "ipython2",
   "version": "2.7.6"
  }
 },
 "nbformat": 4,
 "nbformat_minor": 5
}
