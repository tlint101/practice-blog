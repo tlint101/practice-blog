{
 "cells": [
  {
   "cell_type": "markdown",
   "source": [
    "---\n",
    "title: 'IC50 or pIC50?'\n",
    "subtitle: 'Where we talk about scaling'\n",
    "author: 'Tony E. Lin'\n",
    "date: '2024-01-18'\n",
    "categories: [small-molecules, drug discovery, Informatics, Python, py50]\n",
    "---"
   ],
   "metadata": {
    "collapsed": false
   },
   "id": "65bd0cd9a02b4319"
  },
  {
   "cell_type": "markdown",
   "source": [
    "## Is IC50 the Only Way? \n",
    "\n",
    "Sometimes it can feel like science is spoken in an unknowable language. Reading figures you see symbols like Å or unit scales for the metric system that make no sense (Does \"Kangaroos Hop Down Mountains Drinking Chocolate Milk\" even work?!?!?!), especially when starting out. For communicating your work, how the data and the units are represented matters. \n",
    "\n",
    "That brings me back to IC50. I know, I have mentioned it a lot (see [here](https://tlint101.github.io/practice-in-code/posts/6-py50-QuickStart.html) and [here](https://tlint101.github.io/practice-in-code/posts/8-absolute-ic50.html)). In short, IC50 value indicates if a drug can inhibit a protein activity by 50%. It is an important indicator of how potent a drug may be. However, obtaining the IC50 value can vary in so many ways. The drug potency can also be an indication of what stage the drug is in during development pipeline. The end result makes reporting a given drug's potency muddy, especially when trying to compare potency between compounds or compare structures during the development stages. \n",
    "\n",
    "This can be seen when comparing drugs in the dummy table below:"
   ],
   "metadata": {
    "collapsed": false
   },
   "id": "156db0c8e7af61ef"
  },
  {
   "cell_type": "code",
   "outputs": [
    {
     "data": {
      "text/plain": "     Drug  IC50 (µM)\n0  Drug 1  30.000000\n1  Drug 2  60.000000\n2  Drug 3   0.000345\n3  Drug 4   0.099000\n4  Drug 5   0.800000\n5  Drug 6   0.940000",
      "text/html": "<div>\n<style scoped>\n    .dataframe tbody tr th:only-of-type {\n        vertical-align: middle;\n    }\n\n    .dataframe tbody tr th {\n        vertical-align: top;\n    }\n\n    .dataframe thead th {\n        text-align: right;\n    }\n</style>\n<table border=\"1\" class=\"dataframe\">\n  <thead>\n    <tr style=\"text-align: right;\">\n      <th></th>\n      <th>Drug</th>\n      <th>IC50 (µM)</th>\n    </tr>\n  </thead>\n  <tbody>\n    <tr>\n      <th>0</th>\n      <td>Drug 1</td>\n      <td>30.000000</td>\n    </tr>\n    <tr>\n      <th>1</th>\n      <td>Drug 2</td>\n      <td>60.000000</td>\n    </tr>\n    <tr>\n      <th>2</th>\n      <td>Drug 3</td>\n      <td>0.000345</td>\n    </tr>\n    <tr>\n      <th>3</th>\n      <td>Drug 4</td>\n      <td>0.099000</td>\n    </tr>\n    <tr>\n      <th>4</th>\n      <td>Drug 5</td>\n      <td>0.800000</td>\n    </tr>\n    <tr>\n      <th>5</th>\n      <td>Drug 6</td>\n      <td>0.940000</td>\n    </tr>\n  </tbody>\n</table>\n</div>"
     },
     "execution_count": 2,
     "metadata": {},
     "output_type": "execute_result"
    }
   ],
   "source": [
    "# Dummy Data\n",
    "df"
   ],
   "metadata": {
    "collapsed": false,
    "ExecuteTime": {
     "end_time": "2024-01-15T08:48:41.480812Z",
     "start_time": "2024-01-15T08:48:41.476005Z"
    }
   },
   "id": "bd2c9cb7509427c0",
   "execution_count": 2
  },
  {
   "cell_type": "markdown",
   "source": [
    "Ew. \n",
    "\n",
    "All reported drugs are in the same units, microMolar (µM), but with varying results. Is Drug 1 50% more potent than Drug 2? Are Drug 5 and Drug 6 differ by 0.14 µM. Does that mean they are equally potent? Reporting results in this way has several issues:\n",
    "- A lot of digits!\n",
    "- Difference in 50% implies 50% increase in potency\n",
    "- *Implies linear scale* \n",
    "\n",
    "The last point is the most important. Rarely are dose-response curves in the linear scale (though it can happen at times). Instead, dose-response curves are more commonly in logarithmic scale. Drugs can have a broad range of concentrations and a logarithmic scale better captures this for plotting. The logarithmic scale also allow curves to be plotted in a nice sigmoidal curve, which can automatically guide our eyes to the all important 50% response value on the curve. \n",
    "\n",
    "So there must be a better way, right? "
   ],
   "metadata": {
    "collapsed": false
   },
   "id": "1a5ef61a241a7ca6"
  },
  {
   "cell_type": "markdown",
   "source": [
    "## pIC50 - A scale That Makes Sense\n",
    "\n",
    "Enter pIC50. This is essentially the negative log of the IC50 in **molar concentration**:\n",
    "\n",
    "$$pIC50 = -log_{10}(IC50)$$\n",
    "\n",
    "This has the advantage of scaling results similar to other logarithmic scales, like the pH scale. This is a handy, because it allows us to quickly gauge a drugs potency. For example:\n",
    "\n",
    "- IC50 of 1 µM is 10^-6^ M = pIC50 of 6.0\n",
    "- IC50 of 100 nM is 10^-7^ M, which is pIC50 = 7.0\n",
    "- IC50 of 10 nM is 10^-8^ M, which is pIC50 = 8.0\n",
    "- IC50 of 1 nM is 10^-9^ M = pIC50 of 9.0\n",
    "\n",
    "**Hey, pIC50 is basically the negative exponent!**\n",
    "\n",
    "The pIC50 scales the results in a more reasonable manner. An IC50 of 100 nM is 10^-7^ is equal to a pIC50 of 7.0. Likewise, an IC50 of 50 nM is 5 x10^-8^ M, which is also 10^-7.3^ M, which is pIC50 = 7.3\n",
    "\n",
    "Another way of thinking of the pIC50 scale is comparing it to another logarithmic scale - the pH scale. Remember that between each number, from 3 to 4, it is a difference of 10. So a pH of 3 is ten times more acidic than a pH of 4.\n",
    "\n",
    "This works the same way for pIC50. However, the pIC50 scale has the added benefit of moving in one direction, where the higher number represents greater potency. \n",
    "\n",
    "This can make a big difference in the reporting of a drug. Remember the first table above? We can quickly convert those values into the pIC50 scale. "
   ],
   "metadata": {
    "collapsed": false
   },
   "id": "f315dae2e4b326"
  },
  {
   "cell_type": "code",
   "outputs": [
    {
     "data": {
      "text/plain": "     Drug  IC50 (µM)  pIC50\n0  Drug 1  30.000000   4.52\n1  Drug 2  60.000000   4.22\n2  Drug 3   0.000345   9.46\n3  Drug 4   0.099000   7.00\n4  Drug 5   0.800000   6.10\n5  Drug 6   0.940000   6.03",
      "text/html": "<div>\n<style scoped>\n    .dataframe tbody tr th:only-of-type {\n        vertical-align: middle;\n    }\n\n    .dataframe tbody tr th {\n        vertical-align: top;\n    }\n\n    .dataframe thead th {\n        text-align: right;\n    }\n</style>\n<table border=\"1\" class=\"dataframe\">\n  <thead>\n    <tr style=\"text-align: right;\">\n      <th></th>\n      <th>Drug</th>\n      <th>IC50 (µM)</th>\n      <th>pIC50</th>\n    </tr>\n  </thead>\n  <tbody>\n    <tr>\n      <th>0</th>\n      <td>Drug 1</td>\n      <td>30.000000</td>\n      <td>4.52</td>\n    </tr>\n    <tr>\n      <th>1</th>\n      <td>Drug 2</td>\n      <td>60.000000</td>\n      <td>4.22</td>\n    </tr>\n    <tr>\n      <th>2</th>\n      <td>Drug 3</td>\n      <td>0.000345</td>\n      <td>9.46</td>\n    </tr>\n    <tr>\n      <th>3</th>\n      <td>Drug 4</td>\n      <td>0.099000</td>\n      <td>7.00</td>\n    </tr>\n    <tr>\n      <th>4</th>\n      <td>Drug 5</td>\n      <td>0.800000</td>\n      <td>6.10</td>\n    </tr>\n    <tr>\n      <th>5</th>\n      <td>Drug 6</td>\n      <td>0.940000</td>\n      <td>6.03</td>\n    </tr>\n  </tbody>\n</table>\n</div>"
     },
     "execution_count": 3,
     "metadata": {},
     "output_type": "execute_result"
    }
   ],
   "source": [
    "# Because units are already in µM, must convert log accordingly\n",
    "df['pIC50'] = -np.log10(df['IC50 (µM)']* 1e-6).round(2)\n",
    "df"
   ],
   "metadata": {
    "collapsed": false,
    "ExecuteTime": {
     "end_time": "2024-01-15T08:48:41.487130Z",
     "start_time": "2024-01-15T08:48:41.481403Z"
    }
   },
   "id": "16a0df287d3e1ff",
   "execution_count": 3
  },
  {
   "cell_type": "markdown",
   "source": [
    "Now that makes the drugs in the table make more sense! The drugs may vary wildly by units, but as pIC50s they are scaled in a manner that can make more intuitive sense. Using the pIC50 of 6.0 (or IC50 of 1,000 nM) as a cutoff, Drug 4, Drug 5, and Drug 6 are the only ones that appear potent. On the pI50 scale, Drug 1 and Drug 2 do not look as appealing.   "
   ],
   "metadata": {
    "collapsed": false
   },
   "id": "b98fa6a0aaa20074"
  },
  {
   "cell_type": "markdown",
   "source": [
    "# A Real-World Example\n",
    "\n",
    "Another example of how pIC50 can be used is demoed here through the development of Capivasertib (AZD5363). Capivasertib is an AKT kinase inhibitor recently approved in 2023. It is the 7th approved [fragment-derived drug](http://practicalfragments.blogspot.com/2023/11/capivasertib-seventh-approved-fragment.html). It was built around a 7-azaindole core and originally started with an IC50 > 100 µM for AKT. That high IC50 is typical starting point for fragment-based drug design.  Looking at the first report of Capivasertib, [published in 2013](https://pubs.acs.org/doi/full/10.1021/jm301762v), we can list the intermediate compound's and their reported IC50. From there we can scale the results to pIC50 and get a better idea of the compounds potency as it moved through the drug optimization stages.  \n",
    "\n",
    "**NOTE** I did not follow the optimization linearly - the IC50 varied between compounds, with some more or less potent depending on the moiety substituted and explored. From the paper, we see that the chemists were able to generate many molecules with very high potency, however issues of selectivity were of great concern, leading to a lot of tweaking. A lot of work was put into the development of Capivasertib (not just potency but selectivity!) and should not be dismissed by my simple demo."
   ],
   "metadata": {
    "collapsed": false
   },
   "id": "dc718d21729299de"
  },
  {
   "cell_type": "code",
   "outputs": [
    {
     "data": {
      "text/plain": "       Compound  IC50 (µM)  pIC50\n0   7-azaindole    100.000   4.00\n1   Compound 33      0.276   6.56\n2   Compound 41      1.313   5.88\n3   Compound 53      0.030   7.52\n4  Capivasertib      0.003   8.52",
      "text/html": "<div>\n<style scoped>\n    .dataframe tbody tr th:only-of-type {\n        vertical-align: middle;\n    }\n\n    .dataframe tbody tr th {\n        vertical-align: top;\n    }\n\n    .dataframe thead th {\n        text-align: right;\n    }\n</style>\n<table border=\"1\" class=\"dataframe\">\n  <thead>\n    <tr style=\"text-align: right;\">\n      <th></th>\n      <th>Compound</th>\n      <th>IC50 (µM)</th>\n      <th>pIC50</th>\n    </tr>\n  </thead>\n  <tbody>\n    <tr>\n      <th>0</th>\n      <td>7-azaindole</td>\n      <td>100.000</td>\n      <td>4.00</td>\n    </tr>\n    <tr>\n      <th>1</th>\n      <td>Compound 33</td>\n      <td>0.276</td>\n      <td>6.56</td>\n    </tr>\n    <tr>\n      <th>2</th>\n      <td>Compound 41</td>\n      <td>1.313</td>\n      <td>5.88</td>\n    </tr>\n    <tr>\n      <th>3</th>\n      <td>Compound 53</td>\n      <td>0.030</td>\n      <td>7.52</td>\n    </tr>\n    <tr>\n      <th>4</th>\n      <td>Capivasertib</td>\n      <td>0.003</td>\n      <td>8.52</td>\n    </tr>\n  </tbody>\n</table>\n</div>"
     },
     "execution_count": 4,
     "metadata": {},
     "output_type": "execute_result"
    }
   ],
   "source": [
    "demo_df"
   ],
   "metadata": {
    "collapsed": false,
    "ExecuteTime": {
     "end_time": "2024-01-15T08:48:41.494340Z",
     "start_time": "2024-01-15T08:48:41.487708Z"
    }
   },
   "id": "7616fabea8ec2681",
   "execution_count": 4
  },
  {
   "cell_type": "markdown",
   "source": [
    "The IC50 (µM) of the reported intermediates in the published article are, objectively, not good to look at. Especially in Table 3 as the IC50 jumped from 9 nM to almost 2,800 nM depending on the substituent. The above table shows how scaling the IC50 to pIC50 can make the information more intuitive. As the molecule becomes more potent, it will have a higher pIC50 number. Thus, there is a need to forever improve the compound to \"achieve\" a higher ranking on the pIC50 scale. For Capivarsertib's case, it has a pIC50 of 8.52 for AKT1."
   ],
   "metadata": {
    "collapsed": false
   },
   "id": "83f9d98490a1c036"
  },
  {
   "cell_type": "markdown",
   "source": [
    "## 🔌Plugs: py50 Can Scale to pIC50!\n",
    "\n",
    "To aid in data representation, py50 comes equipped with a function to scale the IC50 into pIC50. This is performed using the calculate_pic50() function. It is built on top of the calculate_absolute_ic50() function. Thus both the relative and absolute pIC50 will be reported. Again, what you report depends on your dataset. **Use your best judgement!**\n",
    "\n",
    "An example of how this works can be seen below:"
   ],
   "metadata": {
    "collapsed": false
   },
   "id": "ad55d1eacea77354"
  },
  {
   "cell_type": "code",
   "outputs": [
    {
     "data": {
      "text/plain": "  compound_name  relative ic50 (nM)  absolute ic50 (nM)  relative pIC50  \\\n0        Drug 1              429.96              579.62            6.37   \n1        Drug 2              423.05              660.69            6.37   \n2        Drug 3              644.38              921.71            6.19   \n3        Drug 4              398.60              422.45            6.40   \n\n   absolute pIC50  \n0            6.24  \n1            6.18  \n2            6.04  \n3            6.37  ",
      "text/html": "<div>\n<style scoped>\n    .dataframe tbody tr th:only-of-type {\n        vertical-align: middle;\n    }\n\n    .dataframe tbody tr th {\n        vertical-align: top;\n    }\n\n    .dataframe thead th {\n        text-align: right;\n    }\n</style>\n<table border=\"1\" class=\"dataframe\">\n  <thead>\n    <tr style=\"text-align: right;\">\n      <th></th>\n      <th>compound_name</th>\n      <th>relative ic50 (nM)</th>\n      <th>absolute ic50 (nM)</th>\n      <th>relative pIC50</th>\n      <th>absolute pIC50</th>\n    </tr>\n  </thead>\n  <tbody>\n    <tr>\n      <th>0</th>\n      <td>Drug 1</td>\n      <td>429.96</td>\n      <td>579.62</td>\n      <td>6.37</td>\n      <td>6.24</td>\n    </tr>\n    <tr>\n      <th>1</th>\n      <td>Drug 2</td>\n      <td>423.05</td>\n      <td>660.69</td>\n      <td>6.37</td>\n      <td>6.18</td>\n    </tr>\n    <tr>\n      <th>2</th>\n      <td>Drug 3</td>\n      <td>644.38</td>\n      <td>921.71</td>\n      <td>6.19</td>\n      <td>6.04</td>\n    </tr>\n    <tr>\n      <th>3</th>\n      <td>Drug 4</td>\n      <td>398.60</td>\n      <td>422.45</td>\n      <td>6.40</td>\n      <td>6.37</td>\n    </tr>\n  </tbody>\n</table>\n</div>"
     },
     "execution_count": 5,
     "metadata": {},
     "output_type": "execute_result"
    }
   ],
   "source": [
    "calculation = calc_data.calculate_pic50(name_col='Compound Name', concentration_col='Compound Conc', response_col='% Inhibition Avg')\n",
    "# To keep IC50 columns\n",
    "calculation = calculation[['compound_name', 'relative ic50 (nM)', 'absolute ic50 (nM)', 'relative pIC50', 'absolute pIC50']]\n",
    "\n",
    "calculation.round(2)"
   ],
   "metadata": {
    "collapsed": false,
    "ExecuteTime": {
     "end_time": "2024-01-15T08:48:41.573103Z",
     "start_time": "2024-01-15T08:48:41.509530Z"
    }
   },
   "id": "518a1768455b5777",
   "execution_count": 5
  },
  {
   "cell_type": "markdown",
   "source": [
    "Now when using py50 to calculate IC50 values, anyone can quickly scale their results to pIC50. Hopefully this will bring a more convenient way to represent and display data to classmates, coworkers, advisors, etc. \n",
    "\n",
    "For anyone wanting to look further, the full notebook for this post can be found [here](https://github.com/tlint101/practice-in-code/tree/main/notebooks). A good post was has been written up by CDD Vault [here](https://www.collaborativedrug.com/cdd-blog/why-using-pic50-instead-of-ic50-will-change-your-life)"
   ],
   "metadata": {
    "collapsed": false
   },
   "id": "d78ba34401f6e78c"
  }
 ],
 "metadata": {
  "kernelspec": {
   "display_name": "Python 3",
   "language": "python",
   "name": "python3"
  },
  "language_info": {
   "codemirror_mode": {
    "name": "ipython",
    "version": 2
   },
   "file_extension": ".py",
   "mimetype": "text/x-python",
   "name": "python",
   "nbconvert_exporter": "python",
   "pygments_lexer": "ipython2",
   "version": "2.7.6"
  }
 },
 "nbformat": 4,
 "nbformat_minor": 5
}
