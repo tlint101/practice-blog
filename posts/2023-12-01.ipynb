{
 "cells": [
  {
   "cell_type": "markdown",
   "source": [
    "---\n",
    "title: 'Testing'\n",
    "author: 'Tony E. Lin'\n",
    "date: '2023-12-01'\n",
    "categories: [Testing]\n",
    "draft: true\n",
    "---\n"
   ],
   "metadata": {
    "collapsed": false
   },
   "id": "2a0f64453b7f26ed"
  },
  {
   "cell_type": "markdown",
   "source": [
    "# Hello\n",
    "\n",
    "Trying things out and seeing how they work if I used a Jupyter Notebook. "
   ],
   "metadata": {
    "collapsed": false
   },
   "id": "b1199a397b1287a6"
  },
  {
   "cell_type": "code",
   "execution_count": null,
   "outputs": [],
   "source": [],
   "metadata": {
    "collapsed": false,
    "ExecuteTime": {
     "end_time": "2023-11-29T09:31:57.132767Z",
     "start_time": "2023-11-29T09:31:57.123903Z"
    }
   },
   "id": "1ad907a4e2b1a27"
  },
  {
   "cell_type": "code",
   "execution_count": 1,
   "id": "initial_id",
   "metadata": {
    "collapsed": true,
    "ExecuteTime": {
     "end_time": "2023-11-29T09:31:58.549863Z",
     "start_time": "2023-11-29T09:31:57.132032Z"
    }
   },
   "outputs": [],
   "source": [
    "import rdkit"
   ]
  }
 ],
 "metadata": {
  "kernelspec": {
   "display_name": "Python 3",
   "language": "python",
   "name": "python3"
  },
  "language_info": {
   "codemirror_mode": {
    "name": "ipython",
    "version": 2
   },
   "file_extension": ".py",
   "mimetype": "text/x-python",
   "name": "python",
   "nbconvert_exporter": "python",
   "pygments_lexer": "ipython2",
   "version": "2.7.6"
  }
 },
 "nbformat": 4,
 "nbformat_minor": 5
}
